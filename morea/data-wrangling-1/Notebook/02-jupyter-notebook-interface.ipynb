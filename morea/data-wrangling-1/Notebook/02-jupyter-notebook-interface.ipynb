{
  "cells": [
    {
      "cell_type": "markdown",
      "id": "pleasant-letter",
      "metadata": {
        "id": "pleasant-letter"
      },
      "source": [
        "# Jupyter Notebook Interface"
      ]
    },
    {
      "cell_type": "markdown",
      "id": "independent-stockholm",
      "metadata": {
        "id": "independent-stockholm"
      },
      "source": [
        "## Cell Types"
      ]
    },
    {
      "cell_type": "code",
      "execution_count": null,
      "id": "funky-paste",
      "metadata": {
        "id": "funky-paste"
      },
      "outputs": [],
      "source": [
        "print(\"This is a code cell\")"
      ]
    },
    {
      "cell_type": "markdown",
      "id": "virgin-angola",
      "metadata": {
        "id": "virgin-angola"
      },
      "source": [
        "This is a markdown cell, with some _formatted_ **text**"
      ]
    },
    {
      "cell_type": "markdown",
      "id": "divided-eligibility",
      "metadata": {
        "id": "divided-eligibility"
      },
      "source": [
        "## Editing Cells"
      ]
    },
    {
      "cell_type": "code",
      "execution_count": null,
      "id": "valued-animation",
      "metadata": {
        "id": "valued-animation"
      },
      "outputs": [],
      "source": [
        "a = 2"
      ]
    },
    {
      "cell_type": "code",
      "execution_count": null,
      "id": "temporal-insured",
      "metadata": {
        "id": "temporal-insured"
      },
      "outputs": [],
      "source": [
        "print(a)"
      ]
    },
    {
      "cell_type": "code",
      "execution_count": null,
      "id": "precise-jewel",
      "metadata": {
        "id": "precise-jewel"
      },
      "outputs": [],
      "source": [
        "a = a + 2"
      ]
    },
    {
      "cell_type": "code",
      "execution_count": null,
      "id": "other-dance",
      "metadata": {
        "id": "other-dance"
      },
      "outputs": [],
      "source": [
        "print(a)"
      ]
    },
    {
      "cell_type": "markdown",
      "id": "young-potato",
      "metadata": {
        "id": "young-potato"
      },
      "source": [
        "## End of Notebook\n",
        "---"
      ]
    }
  ],
  "metadata": {
    "kernelspec": {
      "display_name": "Python 3",
      "language": "python",
      "name": "python3"
    },
    "language_info": {
      "codemirror_mode": {
        "name": "ipython",
        "version": 3
      },
      "file_extension": ".py",
      "mimetype": "text/x-python",
      "name": "python",
      "nbconvert_exporter": "python",
      "pygments_lexer": "ipython3",
      "version": "3.8.6"
    },
    "colab": {
      "provenance": []
    }
  },
  "nbformat": 4,
  "nbformat_minor": 5
}