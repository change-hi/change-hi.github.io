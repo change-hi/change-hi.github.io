{
  "cells": [
    {
      "cell_type": "markdown",
      "id": "boring-fight",
      "metadata": {
        "id": "boring-fight"
      },
      "source": [
        "## Wrangling Dataframes"
      ]
    },
    {
      "cell_type": "markdown",
      "id": "structural-henry",
      "metadata": {
        "id": "structural-henry"
      },
      "source": [
        "---"
      ]
    },
    {
      "cell_type": "markdown",
      "id": "smaller-radar",
      "metadata": {
        "id": "smaller-radar"
      },
      "source": [
        "## `Dataframe` Descriptive Analyses"
      ]
    },
    {
      "cell_type": "markdown",
      "id": "bibliographic-failing",
      "metadata": {
        "id": "bibliographic-failing"
      },
      "source": [
        "### Inspecting Data Types"
      ]
    },
    {
      "cell_type": "markdown",
      "id": "lovely-resistance",
      "metadata": {
        "id": "lovely-resistance"
      },
      "source": [
        "Load in a dataframe and check the various columns data types"
      ]
    },
    {
      "cell_type": "code",
      "execution_count": null,
      "id": "bacterial-example",
      "metadata": {
        "id": "bacterial-example"
      },
      "outputs": [],
      "source": [
        "import pandas as pd"
      ]
    },
    {
      "cell_type": "code",
      "execution_count": null,
      "id": "committed-economy",
      "metadata": {
        "id": "committed-economy"
      },
      "outputs": [],
      "source": [
        "df = pd.read_csv(\"https://raw.githubusercontent.com/mahdi-b/change-hi.github.io/main/morea/data-wrangling-1/Notebook/data/types_dataframe.csv\")\n",
        "df"
      ]
    },
    {
      "cell_type": "code",
      "execution_count": null,
      "id": "fifth-forest",
      "metadata": {
        "id": "fifth-forest"
      },
      "outputs": [],
      "source": [
        "df.columns"
      ]
    },
    {
      "cell_type": "code",
      "execution_count": null,
      "id": "interesting-yukon",
      "metadata": {
        "id": "interesting-yukon"
      },
      "outputs": [],
      "source": [
        "df.dtypes"
      ]
    },
    {
      "cell_type": "code",
      "execution_count": null,
      "id": "catholic-brook",
      "metadata": {
        "id": "catholic-brook"
      },
      "outputs": [],
      "source": [
        "pd.to_datetime(df['date mmddyy'], format='%m%d%y')"
      ]
    },
    {
      "cell_type": "code",
      "execution_count": null,
      "id": "deadly-spanish",
      "metadata": {
        "id": "deadly-spanish"
      },
      "outputs": [],
      "source": [
        "df[\"date\"] = pd.to_datetime(df['date mmddyy'], format='%m%d%y')\n",
        "df = df.drop(columns=[\"date mmddyy\"])\n",
        "df.dtypes"
      ]
    },
    {
      "cell_type": "code",
      "execution_count": null,
      "id": "alert-residence",
      "metadata": {
        "id": "alert-residence"
      },
      "outputs": [],
      "source": [
        "df"
      ]
    },
    {
      "cell_type": "markdown",
      "id": "strong-bowling",
      "metadata": {
        "id": "strong-bowling"
      },
      "source": [
        "---"
      ]
    },
    {
      "cell_type": "markdown",
      "id": "monthly-cocktail",
      "metadata": {
        "id": "monthly-cocktail"
      },
      "source": [
        "### `DataFrame` Methods\n",
        "\n",
        "#### `mean()` Method"
      ]
    },
    {
      "cell_type": "code",
      "execution_count": null,
      "id": "familiar-aaron",
      "metadata": {
        "id": "familiar-aaron"
      },
      "outputs": [],
      "source": [
        "df.mean(numeric_only=True)"
      ]
    },
    {
      "cell_type": "markdown",
      "id": "hired-furniture",
      "metadata": {
        "id": "hired-furniture"
      },
      "source": [
        "#### `describe()` Method"
      ]
    },
    {
      "cell_type": "code",
      "execution_count": null,
      "id": "empty-burden",
      "metadata": {
        "id": "empty-burden"
      },
      "outputs": [],
      "source": [
        "df.describe(include='all', datetime_is_numeric=True)"
      ]
    },
    {
      "cell_type": "markdown",
      "id": "present-collective",
      "metadata": {
        "id": "present-collective"
      },
      "source": [
        "---"
      ]
    },
    {
      "cell_type": "markdown",
      "id": "AKFf6I694sHz",
      "metadata": {
        "id": "AKFf6I694sHz"
      },
      "source": []
    },
    {
      "cell_type": "markdown",
      "id": "qL3Owm3S426Z",
      "metadata": {
        "id": "qL3Owm3S426Z"
      },
      "source": [
        "### `Accessor` Methods"
      ]
    },
    {
      "cell_type": "code",
      "execution_count": null,
      "id": "AQlr1dwW5AOO",
      "metadata": {
        "id": "AQlr1dwW5AOO"
      },
      "outputs": [],
      "source": [
        "pd.Series(['cat', 'dog', 'fish']).str.upper()"
      ]
    },
    {
      "cell_type": "markdown",
      "id": "heard-membership",
      "metadata": {
        "id": "heard-membership"
      },
      "source": [
        "## `DataFrame` Arithmetic"
      ]
    },
    {
      "cell_type": "code",
      "execution_count": null,
      "id": "annual-registrar",
      "metadata": {
        "id": "annual-registrar"
      },
      "outputs": [],
      "source": [
        "df_1 = pd.DataFrame({'AA':{'A':79, 'C':2, 'T':13, 'X':21}, 'BB':{'A':11, 'C':2, 'T':2, 'X':9}})\n",
        "df_2 = pd.DataFrame({'AA':{'A':21,'D':14,'T':5}, 'CC':{'A':12,'D':28,'T':121}})"
      ]
    },
    {
      "cell_type": "code",
      "execution_count": null,
      "id": "previous-tradition",
      "metadata": {
        "id": "previous-tradition"
      },
      "outputs": [],
      "source": [
        "df_1"
      ]
    },
    {
      "cell_type": "code",
      "execution_count": null,
      "id": "crude-student",
      "metadata": {
        "id": "crude-student"
      },
      "outputs": [],
      "source": [
        "df_2"
      ]
    },
    {
      "cell_type": "code",
      "execution_count": null,
      "id": "hybrid-guinea",
      "metadata": {
        "id": "hybrid-guinea"
      },
      "outputs": [],
      "source": [
        "df_1[\"AA\"] + df_2[\"AA\"]"
      ]
    },
    {
      "cell_type": "markdown",
      "id": "oriental-promise",
      "metadata": {
        "id": "oriental-promise"
      },
      "source": [
        "### Broadcasting"
      ]
    },
    {
      "cell_type": "code",
      "execution_count": null,
      "id": "young-congo",
      "metadata": {
        "id": "young-congo"
      },
      "outputs": [],
      "source": [
        "df_1[\"AA\"] + 0.3"
      ]
    },
    {
      "cell_type": "markdown",
      "id": "organized-arlington",
      "metadata": {
        "id": "organized-arlington"
      },
      "source": [
        "## End of Notebook\n",
        "---"
      ]
    }
  ],
  "metadata": {
    "colab": {
      "provenance": []
    },
    "kernelspec": {
      "display_name": "Python 3",
      "language": "python",
      "name": "python3"
    },
    "language_info": {
      "codemirror_mode": {
        "name": "ipython",
        "version": 3
      },
      "file_extension": ".py",
      "mimetype": "text/x-python",
      "name": "python",
      "nbconvert_exporter": "python",
      "pygments_lexer": "ipython3",
      "version": "3.8.6"
    }
  },
  "nbformat": 4,
  "nbformat_minor": 5
}
