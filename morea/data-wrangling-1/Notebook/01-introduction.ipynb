{
 "cells": [
  {
   "cell_type": "markdown",
   "id": "regulated-keyboard",
   "metadata": {},
   "source": [
    "# Example Notebook\n",
    "\n",
    "Jupyter Notebooks: A dynamic environment for live coding, equations, and rich text elements.\n",
    "\n",
    "$$\n",
    " X \\sim \\mathcal{N}(\\mu,\\,\\sigma^{2})\\,\n",
    "$$\n",
    "\n",
    "\n",
    "![](https://upload.wikimedia.org/wikipedia/commons/7/74/Normal_Distribution_PDF.svg)"
   ]
  },
  {
   "cell_type": "code",
   "execution_count": 3,
   "id": "95ceeed8-922e-44d9-b507-542ac832a6c6",
   "metadata": {
    "tags": []
   },
   "outputs": [
    {
     "name": "stdout",
     "output_type": "stream",
     "text": [
      "[ 0.63105849  1.36644631 -0.32447467  0.51885904  0.82527566  0.08505894\n",
      " -1.44133869 -1.15235434 -1.55712453 -0.15888584]\n"
     ]
    }
   ],
   "source": [
    "import numpy as np\n",
    "\n",
    "mean = 0          # mean (center) of the distribution\n",
    "std_dev = 1       # standard deviation (spread or width) of the distribution\n",
    "num_samples = 1000  # number of samples to generate\n",
    "\n",
    "samples = np.random.normal(mean, std_dev, num_samples)\n",
    "\n",
    "print(samples[:10])"
   ]
  },
  {
   "cell_type": "markdown",
   "id": "continued-pressure",
   "metadata": {},
   "source": [
    "## Conclusion\n",
    "---\n",
    "This is a conclusion."
   ]
  }
 ],
 "metadata": {
  "kernelspec": {
   "display_name": "Python 3 (ipykernel)",
   "language": "python",
   "name": "python3"
  },
  "language_info": {
   "codemirror_mode": {
    "name": "ipython",
    "version": 3
   },
   "file_extension": ".py",
   "mimetype": "text/x-python",
   "name": "python",
   "nbconvert_exporter": "python",
   "pygments_lexer": "ipython3",
   "version": "3.8.11"
  }
 },
 "nbformat": 4,
 "nbformat_minor": 5
}
